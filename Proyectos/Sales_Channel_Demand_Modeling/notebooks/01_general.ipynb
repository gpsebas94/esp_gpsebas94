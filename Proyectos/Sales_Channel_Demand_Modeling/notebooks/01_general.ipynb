{
 "cells": [
  {
   "cell_type": "markdown",
   "id": "987505f1",
   "metadata": {},
   "source": [
    "### Librerías"
   ]
  },
  {
   "cell_type": "code",
   "execution_count": 1,
   "id": "cb6082c7",
   "metadata": {},
   "outputs": [],
   "source": [
    "# Tratamiento de datos\n",
    "# ==============================================================================\n",
    "import pandas as pd\n",
    "import numpy as np\n",
    "\n",
    "# Gráficos\n",
    "# ==============================================================================\n",
    "import matplotlib.pyplot as plt\n",
    "from matplotlib import style\n",
    "import seaborn as sns\n",
    "\n",
    "# Preprocesado y modelado\n",
    "# ==============================================================================\n",
    "from scipy.stats import pearsonr\n",
    "from sklearn.model_selection import train_test_split\n",
    "from sklearn.metrics import mean_squared_error, mean_absolute_error, r2_score, explained_variance_score\n",
    "import statsmodels.api as sm\n",
    "import statsmodels.formula.api as smf\n",
    "from statsmodels.stats.anova import anova_lm\n",
    "from scipy import stats\n",
    "\n",
    "# Configuración matplotlib\n",
    "# ==============================================================================\n",
    "plt.rcParams['image.cmap'] = \"bwr\"\n",
    "#plt.rcParams['figure.dpi'] = \"100\"\n",
    "plt.rcParams['savefig.bbox'] = \"tight\"\n",
    "style.use('ggplot') or plt.style.use('ggplot')\n",
    "\n",
    "# Configuración warnings\n",
    "# ==============================================================================\n",
    "import warnings\n",
    "warnings.filterwarnings('ignore')\n",
    "\n",
    "# Conexión SQL\n",
    "# ==============================================================================\n",
    "import psycopg2 as ps\n",
    "\n",
    "import seaborn as sns\n",
    "\n",
    "#Biblioteca para estimar modelos estadísticos y realizar pruebas estadísticas.\n",
    "# ==============================================================================\n",
    "import statsmodels.formula.api as sfm \n",
    "\n",
    "from sklearn.preprocessing import PolynomialFeatures \n",
    "\n",
    "from sklearn.tree import DecisionTreeRegressor\n",
    "from sklearn.linear_model import LinearRegression \n",
    "from sklearn import metrics\n",
    "from sklearn.ensemble import RandomForestRegressor\n",
    "from sklearn.svm import SVR\n",
    "from sklearn.preprocessing import StandardScaler\n",
    "\n",
    "from sklearn.decomposition import PCA\n",
    "from sklearn.pipeline import make_pipeline\n",
    "\n",
    "from sklearn import linear_model"
   ]
  },
  {
   "cell_type": "markdown",
   "id": "bdfc26c7",
   "metadata": {},
   "source": [
    "### Conexión SQL"
   ]
  },
  {
   "cell_type": "code",
   "execution_count": 2,
   "id": "7872a130",
   "metadata": {},
   "outputs": [],
   "source": [
    "conexion = ps.connect(host=\"codbview.c21jlbp5d5qr.us-east-1.rds.amazonaws.com\", database=\"codb\", user=\"sgonzalez\", password=\"AdarlaToda100%\",port=\"5432\")"
   ]
  },
  {
   "cell_type": "code",
   "execution_count": 3,
   "id": "24ceee52",
   "metadata": {},
   "outputs": [],
   "source": [
    "# Creamos el cursor con el objeto conexion\n",
    "cur = conexion.cursor()\n",
    "\n",
    "# Ejecutamos una consulta\n",
    "sql = \"\"\"\n",
    "select *\n",
    "from sal_indicators_in sa \n",
    "\"\"\"\n",
    "\n",
    "consulta = cur.execute(sql)\n",
    "\n",
    "data = cur.fetchall()"
   ]
  },
  {
   "cell_type": "code",
   "execution_count": 5,
   "id": "a63d7c59",
   "metadata": {
    "scrolled": true
   },
   "outputs": [
    {
     "data": {
      "text/html": [
       "<div>\n",
       "<style scoped>\n",
       "    .dataframe tbody tr th:only-of-type {\n",
       "        vertical-align: middle;\n",
       "    }\n",
       "\n",
       "    .dataframe tbody tr th {\n",
       "        vertical-align: top;\n",
       "    }\n",
       "\n",
       "    .dataframe thead th {\n",
       "        text-align: right;\n",
       "    }\n",
       "</style>\n",
       "<table border=\"1\" class=\"dataframe\">\n",
       "  <thead>\n",
       "    <tr style=\"text-align: right;\">\n",
       "      <th></th>\n",
       "      <th>date_char</th>\n",
       "      <th>day_id</th>\n",
       "      <th>sales_channel</th>\n",
       "      <th>ipc</th>\n",
       "      <th>activations</th>\n",
       "      <th>activations_w_topups</th>\n",
       "      <th>activations_pacs</th>\n",
       "      <th>topups</th>\n",
       "      <th>total_pacs</th>\n",
       "      <th>radio</th>\n",
       "      <th>...</th>\n",
       "      <th>digital_performance</th>\n",
       "      <th>rotacion</th>\n",
       "      <th>residual</th>\n",
       "      <th>avg_recarga_residual</th>\n",
       "      <th>comisiones</th>\n",
       "      <th>eventos_alto_bitacora</th>\n",
       "      <th>eventos_bajo_bitacora</th>\n",
       "      <th>eventos_medio_bitacora</th>\n",
       "      <th>ind_competividad</th>\n",
       "      <th>dias_lab</th>\n",
       "    </tr>\n",
       "  </thead>\n",
       "  <tbody>\n",
       "    <tr>\n",
       "      <th>0</th>\n",
       "      <td>jun-21</td>\n",
       "      <td>2021-01-06</td>\n",
       "      <td>Others</td>\n",
       "      <td>4.0</td>\n",
       "      <td>1110</td>\n",
       "      <td>91</td>\n",
       "      <td>86</td>\n",
       "      <td>2083000</td>\n",
       "      <td>2522</td>\n",
       "      <td>142308892</td>\n",
       "      <td>...</td>\n",
       "      <td>393863417</td>\n",
       "      <td>0.00</td>\n",
       "      <td>0.00</td>\n",
       "      <td>0.0</td>\n",
       "      <td>0.0</td>\n",
       "      <td>0.0</td>\n",
       "      <td>0.0</td>\n",
       "      <td>1.0</td>\n",
       "      <td>0.83</td>\n",
       "      <td>24</td>\n",
       "    </tr>\n",
       "    <tr>\n",
       "      <th>1</th>\n",
       "      <td>ene-21</td>\n",
       "      <td>2021-01-01</td>\n",
       "      <td>Distributors - Traditional</td>\n",
       "      <td>1.6</td>\n",
       "      <td>40265</td>\n",
       "      <td>38311</td>\n",
       "      <td>17299</td>\n",
       "      <td>115018055</td>\n",
       "      <td>349104</td>\n",
       "      <td>41687525</td>\n",
       "      <td>...</td>\n",
       "      <td>365633245</td>\n",
       "      <td>0.00</td>\n",
       "      <td>0.21</td>\n",
       "      <td>4469.0</td>\n",
       "      <td>0.0</td>\n",
       "      <td>0.0</td>\n",
       "      <td>0.0</td>\n",
       "      <td>1.0</td>\n",
       "      <td>1.03</td>\n",
       "      <td>24</td>\n",
       "    </tr>\n",
       "    <tr>\n",
       "      <th>2</th>\n",
       "      <td>ene-21</td>\n",
       "      <td>2021-01-01</td>\n",
       "      <td>Retail</td>\n",
       "      <td>1.6</td>\n",
       "      <td>16482</td>\n",
       "      <td>16307</td>\n",
       "      <td>15328</td>\n",
       "      <td>265657864</td>\n",
       "      <td>187343</td>\n",
       "      <td>41687525</td>\n",
       "      <td>...</td>\n",
       "      <td>365633245</td>\n",
       "      <td>0.06</td>\n",
       "      <td>0.00</td>\n",
       "      <td>0.0</td>\n",
       "      <td>40858121.0</td>\n",
       "      <td>0.0</td>\n",
       "      <td>0.0</td>\n",
       "      <td>1.0</td>\n",
       "      <td>1.03</td>\n",
       "      <td>24</td>\n",
       "    </tr>\n",
       "    <tr>\n",
       "      <th>3</th>\n",
       "      <td>ene-21</td>\n",
       "      <td>2021-01-01</td>\n",
       "      <td>Kioskos</td>\n",
       "      <td>1.6</td>\n",
       "      <td>6128</td>\n",
       "      <td>6056</td>\n",
       "      <td>5546</td>\n",
       "      <td>73900256</td>\n",
       "      <td>86862</td>\n",
       "      <td>41687525</td>\n",
       "      <td>...</td>\n",
       "      <td>365633245</td>\n",
       "      <td>0.13</td>\n",
       "      <td>0.00</td>\n",
       "      <td>0.0</td>\n",
       "      <td>5355069.0</td>\n",
       "      <td>0.0</td>\n",
       "      <td>0.0</td>\n",
       "      <td>1.0</td>\n",
       "      <td>1.03</td>\n",
       "      <td>24</td>\n",
       "    </tr>\n",
       "    <tr>\n",
       "      <th>4</th>\n",
       "      <td>ene-21</td>\n",
       "      <td>2021-01-01</td>\n",
       "      <td>Digital</td>\n",
       "      <td>1.6</td>\n",
       "      <td>9566</td>\n",
       "      <td>5461</td>\n",
       "      <td>5364</td>\n",
       "      <td>128270496</td>\n",
       "      <td>40254</td>\n",
       "      <td>41687525</td>\n",
       "      <td>...</td>\n",
       "      <td>365633245</td>\n",
       "      <td>0.00</td>\n",
       "      <td>0.00</td>\n",
       "      <td>0.0</td>\n",
       "      <td>0.0</td>\n",
       "      <td>0.0</td>\n",
       "      <td>0.0</td>\n",
       "      <td>1.0</td>\n",
       "      <td>1.03</td>\n",
       "      <td>24</td>\n",
       "    </tr>\n",
       "  </tbody>\n",
       "</table>\n",
       "<p>5 rows × 26 columns</p>\n",
       "</div>"
      ],
      "text/plain": [
       "  date_char      day_id               sales_channel  ipc  activations  \\\n",
       "0    jun-21  2021-01-06                      Others  4.0         1110   \n",
       "1    ene-21  2021-01-01  Distributors - Traditional  1.6        40265   \n",
       "2    ene-21  2021-01-01                      Retail  1.6        16482   \n",
       "3    ene-21  2021-01-01                     Kioskos  1.6         6128   \n",
       "4    ene-21  2021-01-01                     Digital  1.6         9566   \n",
       "\n",
       "   activations_w_topups  activations_pacs     topups  total_pacs      radio  \\\n",
       "0                    91                86    2083000        2522  142308892   \n",
       "1                 38311             17299  115018055      349104   41687525   \n",
       "2                 16307             15328  265657864      187343   41687525   \n",
       "3                  6056              5546   73900256       86862   41687525   \n",
       "4                  5461              5364  128270496       40254   41687525   \n",
       "\n",
       "   ...  digital_performance  rotacion  residual  avg_recarga_residual  \\\n",
       "0  ...            393863417      0.00      0.00                   0.0   \n",
       "1  ...            365633245      0.00      0.21                4469.0   \n",
       "2  ...            365633245      0.06      0.00                   0.0   \n",
       "3  ...            365633245      0.13      0.00                   0.0   \n",
       "4  ...            365633245      0.00      0.00                   0.0   \n",
       "\n",
       "   comisiones  eventos_alto_bitacora  eventos_bajo_bitacora  \\\n",
       "0         0.0                    0.0                    0.0   \n",
       "1         0.0                    0.0                    0.0   \n",
       "2  40858121.0                    0.0                    0.0   \n",
       "3   5355069.0                    0.0                    0.0   \n",
       "4         0.0                    0.0                    0.0   \n",
       "\n",
       "   eventos_medio_bitacora  ind_competividad  dias_lab  \n",
       "0                     1.0              0.83        24  \n",
       "1                     1.0              1.03        24  \n",
       "2                     1.0              1.03        24  \n",
       "3                     1.0              1.03        24  \n",
       "4                     1.0              1.03        24  \n",
       "\n",
       "[5 rows x 26 columns]"
      ]
     },
     "execution_count": 5,
     "metadata": {},
     "output_type": "execute_result"
    }
   ],
   "source": [
    "df = pd.DataFrame(data,columns=['date_char','day_id','sales_channel','ipc','activations','activations_w_topups','activations_pacs','topups','total_pacs','radio','tv','ooh','btl_distri','btl_kioscos_y_retail','pop','carro_valla','digital_performance','rotacion','residual','avg_recarga_residual','comisiones','eventos_alto_bitacora','eventos_bajo_bitacora','eventos_medio_bitacora','ind_competividad','dias_lab'])\n",
    "\n",
    "df['ipc']=df['ipc'].astype('float')\n",
    "df['rotacion']=df['rotacion'].astype('float')\n",
    "df['residual']=df['residual'].astype('float')\n",
    "df['avg_recarga_residual']=df['avg_recarga_residual'].astype('float')\n",
    "df['eventos_alto_bitacora']=df['eventos_alto_bitacora'].astype('float')\n",
    "df['eventos_bajo_bitacora']=df['eventos_bajo_bitacora'].astype('float')\n",
    "df['eventos_medio_bitacora']=df['eventos_medio_bitacora'].astype('float')\n",
    "\n",
    "df = df.fillna(0)\n",
    "#df = df.dropna()\n",
    "\n",
    "df.head()"
   ]
  },
  {
   "cell_type": "code",
   "execution_count": 6,
   "id": "ebdde0cf",
   "metadata": {},
   "outputs": [],
   "source": [
    "df.to_csv(r'C:\\Users\\juan.gonzalez\\Downloads\\Prueba Grifo.csv')"
   ]
  },
  {
   "cell_type": "markdown",
   "id": "f6be66e7",
   "metadata": {},
   "source": [
    "### Distribución de los Datos"
   ]
  },
  {
   "cell_type": "code",
   "execution_count": null,
   "id": "662566b7",
   "metadata": {},
   "outputs": [],
   "source": [
    "plt.figure(figsize=(30,20)) \n",
    "sns.set_theme(style=\"ticks\")\n",
    "\n",
    "sns.set(font_scale = 2)\n",
    "\n",
    "#sns.pairplot(df, x_vars=['ipc','radio','tv','ooh','btl_distri','btl_kioscos_y_retail','pop','carro_valla','digital_performance','rotacion','residual','avg_recarga_residual','comisiones','eventos_alto_bitacora','eventos_bajo_bitacora','eventos_medio_bitacora'], y_vars=['activations']) \n",
    "sns.pairplot(df, x_vars=['ipc','radio'], y_vars=['activations'],height=5)\n",
    "\n",
    "\n",
    "                         \n",
    "plt.show()"
   ]
  },
  {
   "cell_type": "markdown",
   "id": "e5a7a269",
   "metadata": {},
   "source": [
    "### Correlaciones"
   ]
  },
  {
   "cell_type": "code",
   "execution_count": null,
   "id": "60c8769a",
   "metadata": {
    "scrolled": true
   },
   "outputs": [],
   "source": [
    "plt.figure(figsize=(3,6)) \n",
    "\n",
    "sns.set(font_scale = 1)\n",
    "\n",
    "corrMatrix_1 = df.corr(method ='spearman')[['activations']]\n",
    "\n",
    "\n",
    "sns.heatmap(corrMatrix_1, annot=True,cmap=\"YlGnBu\")\n",
    "\n",
    "plt.show()"
   ]
  },
  {
   "cell_type": "code",
   "execution_count": null,
   "id": "6cde5451",
   "metadata": {},
   "outputs": [],
   "source": [
    "del df['date_char']\n",
    "del df['day_id']\n",
    "del df['sales_channel']\n",
    "del df['activations_w_topups']\n",
    "del df['activations_pacs']\n",
    "del df['topups']\n",
    "del df['total_pacs']\n",
    "del df['ind_productividad']\n",
    "del df['dias_lab']\n",
    "\n",
    "from sklearn.preprocessing import MinMaxScaler\n",
    "\n",
    "scaler = MinMaxScaler(feature_range=(0,1))\n",
    "\n",
    "scaled = scaler.fit_transform(df)\n",
    "\n",
    "df_normal = pd.DataFrame(scaled,columns=['ipc','activations','radio','tv','ooh','btl_distri','btl_kioscos_y_retail','pop','carro_valla','digital_performance','rotacion','residual','avg_recarga_residual','comisiones','eventos_alto_bitacora','eventos_bajo_bitacora','eventos_medio_bitacora'])\n",
    "\n",
    "df_normal['ipc']=df_normal['ipc'].astype('float')\n",
    "df_normal['rotacion']=df_normal['rotacion'].astype('float')\n",
    "df_normal['residual']=df_normal['residual'].astype('float')\n",
    "df_normal['avg_recarga_residual']=df_normal['avg_recarga_residual'].astype('float')\n",
    "df_normal['eventos_alto_bitacora']=df_normal['eventos_alto_bitacora'].astype('float')\n",
    "df_normal['eventos_bajo_bitacora']=df_normal['eventos_bajo_bitacora'].astype('float')\n",
    "df_normal['eventos_medio_bitacora']=df_normal['eventos_medio_bitacora'].astype('float')\n",
    "\n",
    "df_normal = df_normal.fillna(0)\n",
    "#df = df.dropna()\n",
    "\n",
    "df_normal.head()"
   ]
  },
  {
   "cell_type": "markdown",
   "id": "1c258cbd",
   "metadata": {},
   "source": [
    "### Omitir Variables \n",
    "De acuerdo a su correlación"
   ]
  },
  {
   "cell_type": "code",
   "execution_count": null,
   "id": "92663f74",
   "metadata": {
    "scrolled": false
   },
   "outputs": [],
   "source": [
    "del df['date_char']\n",
    "del df['day_id']\n",
    "del df['sales_channel']\n",
    "del df['activations_w_topups']\n",
    "del df['activations_pacs']\n",
    "del df['topups']\n",
    "del df['total_pacs']\n",
    "\n",
    "\n",
    "#del df['eventos_medio_bitacora']\n",
    "#del df['ipc']\n",
    "#del df['eventos_alto_bitacora']\n",
    "#del df['ooh']\n",
    "#del df['pop']\n",
    "#del df['tv']\n",
    "#del df['rotacion']\n",
    "#del df['comisiones']\n",
    "#del df['digital_performance']\n",
    "#del df['eventos_bajo_bitacora']"
   ]
  },
  {
   "cell_type": "markdown",
   "id": "2a53ab5a",
   "metadata": {},
   "source": [
    "### Regresión Lineal"
   ]
  },
  {
   "cell_type": "code",
   "execution_count": null,
   "id": "417d0a77",
   "metadata": {},
   "outputs": [],
   "source": [
    "# División de los datos en train y test\n",
    "# ==============================================================================\n",
    "X = df.drop(columns=['activations'],axis=1)\n",
    "y = df['activations']\n",
    "\n",
    "X_train, X_test, y_train, y_test = train_test_split(\n",
    "                                        X,\n",
    "                                        y.values.reshape(-1,1),\n",
    "                                        train_size   = 0.8,\n",
    "                                        random_state = 1234,\n",
    "                                        shuffle      = True\n",
    "                                    )\n",
    "\n",
    "lin_reg = LinearRegression()\n",
    "lin_reg.fit(X_train,y_train)\n",
    "\n",
    "#Prediction using test set \n",
    "y_pred = lin_reg.predict(X_test)\n",
    "mae=metrics.mean_absolute_error(y_test, y_pred)\n",
    "mse=metrics.mean_squared_error(y_test, y_pred)\n",
    "\n",
    "# Printing the metrics\n",
    "print('R2 square:',metrics.r2_score(y_test, y_pred))\n",
    "print('MAE: ', mae)\n",
    "print('MSE: ', mse)\n",
    "print('')\n",
    "\n",
    "print('explained_variance:',metrics.explained_variance_score(y_test, y_pred))\n",
    "print('')\n",
    "\n",
    "print('')\n",
    "model=sm.OLS(y,X).fit() \n",
    "\n",
    "model.summary()"
   ]
  },
  {
   "cell_type": "code",
   "execution_count": null,
   "id": "5cbfb2ad",
   "metadata": {
    "scrolled": false
   },
   "outputs": [],
   "source": [
    "print(X.columns)\n",
    "print(\"\")\n",
    "print('w = ' + str(lin_reg.coef_) + ', b = ' + str(lin_reg.intercept_))"
   ]
  },
  {
   "cell_type": "code",
   "execution_count": null,
   "id": "ca887dc5",
   "metadata": {
    "scrolled": true
   },
   "outputs": [],
   "source": [
    "X.columns"
   ]
  },
  {
   "cell_type": "code",
   "execution_count": null,
   "id": "a0e06e8d",
   "metadata": {
    "scrolled": true
   },
   "outputs": [],
   "source": [
    "np.array(lin_reg.coef_).T\n"
   ]
  },
  {
   "cell_type": "code",
   "execution_count": null,
   "id": "5381785d",
   "metadata": {
    "scrolled": true
   },
   "outputs": [],
   "source": [
    "#np.std(X)\n",
    "\n",
    "X.std()"
   ]
  },
  {
   "cell_type": "code",
   "execution_count": null,
   "id": "7a3eede7",
   "metadata": {},
   "outputs": [],
   "source": [
    "X2 = df.drop(columns=['activations'],axis=1)\n",
    "y2 = df['activations']\n",
    "\n",
    "\n",
    "prueba = pd.DataFrame(X.columns,columns=['columnas'])\n",
    "\n",
    "prueba['coef'] = np.array(lin_reg.coef_).T.astype('float')\n",
    "prueba['m'] = np.array(X2.mean().values).T.astype('float')\n",
    "prueba['std'] = np.array(X2.std().values).T.astype('float')\n",
    "\n",
    "\n",
    "\n",
    "prueba.head(50)"
   ]
  },
  {
   "cell_type": "code",
   "execution_count": null,
   "id": "178dad0a",
   "metadata": {},
   "outputs": [],
   "source": [
    "prueba.to_csv(r'C:\\Users\\juan.gonzalez\\Downloads\\prueba cor.csv')"
   ]
  },
  {
   "cell_type": "code",
   "execution_count": null,
   "id": "78654dae",
   "metadata": {},
   "outputs": [],
   "source": []
  },
  {
   "cell_type": "markdown",
   "id": "57d0aae9",
   "metadata": {},
   "source": [
    "\\begin{align}\n",
    "\\dot{activations} = \\ -ipc(1.08707071e+03) - radio(1.69505491e-05) - tv(8.75945245e-07) + ooh(5.84508790e-06) + btlDistri(9.75854623e-05) - btlKioscosYretail(6.32994351e-05) + pop(5.41916990e-06) - carroValla(3.38964506e-04) - digitalPerformance(1.70410130e-06) + rotacion(2.02202299e+04) + residual(3.82600547e+04) + avgRecargaResidual(3.96941585e+00) + comisiones(1.36926477e-04) - eventosAltoBitacora(1.57219220e+05) - eventosBajoBitacora(1.59499580e+05) - eventosMedioBitacora(1.57618636e+05) + 166688.52349714\\\\\n",
    "\\end{align}"
   ]
  },
  {
   "cell_type": "code",
   "execution_count": null,
   "id": "30bc73fa",
   "metadata": {
    "scrolled": false
   },
   "outputs": [],
   "source": [
    "model.params"
   ]
  },
  {
   "cell_type": "markdown",
   "id": "f21a370b",
   "metadata": {},
   "source": [
    "### Modelo Regresión Activaciones con Recarga y con PAC"
   ]
  },
  {
   "cell_type": "code",
   "execution_count": null,
   "id": "82b33c29",
   "metadata": {},
   "outputs": [],
   "source": [
    "# Creamos el cursor con el objeto conexion\n",
    "cur2 = conexion.cursor()\n",
    "\n",
    "# Ejecutamos una consulta\n",
    "sql2 = \"\"\"\n",
    "select activations,activations_w_topups, activations_pacs\n",
    "eventos_medio_bitacora\n",
    "from sal_indicators_in sa \n",
    "\"\"\"\n",
    "\n",
    "consulta2 = cur2.execute(sql2)\n",
    "\n",
    "data2 = cur2.fetchall()"
   ]
  },
  {
   "cell_type": "code",
   "execution_count": null,
   "id": "cfa49662",
   "metadata": {},
   "outputs": [],
   "source": [
    "df2 = pd.DataFrame(data2,columns=['activations','activations_w_topups','activations_pacs'])\n",
    "\n",
    "\n",
    "\n",
    "df2 = df2.fillna(0)\n",
    "#df = df.dropna()\n",
    "\n",
    "df2.head()"
   ]
  },
  {
   "cell_type": "markdown",
   "id": "9143cdac",
   "metadata": {},
   "source": [
    "##### Recargas"
   ]
  },
  {
   "cell_type": "code",
   "execution_count": null,
   "id": "5ee467c2",
   "metadata": {},
   "outputs": [],
   "source": [
    "# División de los datos en train y test\n",
    "# ==============================================================================\n",
    "\n",
    "X = df2[['activations']]\n",
    "y = df2['activations_w_topups']\n",
    "\n",
    "\n",
    "X_train, X_test, y_train, y_test = train_test_split(\n",
    "                                        X.values.reshape(-1,1),\n",
    "                                        y.values.reshape(-1,1),\n",
    "                                        train_size   = 0.8,\n",
    "                                        random_state = 1234,\n",
    "                                        shuffle      = True\n",
    "                                    )\n",
    "\n",
    "lin_reg = LinearRegression()\n",
    "lin_reg.fit(X_train,y_train)\n",
    "\n",
    "#Prediction using test set \n",
    "y_pred = lin_reg.predict(X_test)\n",
    "mae=metrics.mean_absolute_error(y_test, y_pred)\n",
    "mse=metrics.mean_squared_error(y_test, y_pred)\n",
    "\n",
    "# Printing the metrics\n",
    "print('R2 square:',metrics.r2_score(y_test, y_pred))\n",
    "print('MAE: ', mae)\n",
    "print('MSE: ', mse)\n",
    "print('')\n",
    "\n",
    "print('explained_variance:',metrics.explained_variance_score(y_test, y_pred))\n",
    "print('')\n",
    "\n",
    "print('')\n",
    "model=sm.OLS(y,X).fit() \n",
    "\n",
    "model.summary()"
   ]
  },
  {
   "cell_type": "code",
   "execution_count": null,
   "id": "e948e462",
   "metadata": {},
   "outputs": [],
   "source": [
    "print(X.columns)\n",
    "print(\"\")\n",
    "print('w = ' + str(lin_reg.coef_) + ', b = ' + str(lin_reg.intercept_))"
   ]
  },
  {
   "cell_type": "markdown",
   "id": "0a55bf48",
   "metadata": {},
   "source": [
    "\\begin{align}\n",
    "\\dot{activations W topups} = \\ activations(1.0011686) - 359.57254012\\\\\n",
    "\\end{align}"
   ]
  },
  {
   "cell_type": "markdown",
   "id": "3b560743",
   "metadata": {},
   "source": [
    "##### PACS"
   ]
  },
  {
   "cell_type": "code",
   "execution_count": null,
   "id": "ba145cec",
   "metadata": {},
   "outputs": [],
   "source": [
    "# División de los datos en train y test\n",
    "# ==============================================================================\n",
    "X = df2[['activations_w_topups']]\n",
    "y = df2['activations_pacs']\n",
    "\n",
    "X_train, X_test, y_train, y_test = train_test_split(\n",
    "                                        X.values.reshape(-1,1),\n",
    "                                        y.values.reshape(-1,1),\n",
    "                                        train_size   = 0.8,\n",
    "                                        random_state = 1234,\n",
    "                                        shuffle      = True\n",
    "                                    )\n",
    "\n",
    "lin_reg = LinearRegression()\n",
    "lin_reg.fit(X_train,y_train)\n",
    "\n",
    "#Prediction using test set \n",
    "y_pred = lin_reg.predict(X_test)\n",
    "mae=metrics.mean_absolute_error(y_test, y_pred)\n",
    "mse=metrics.mean_squared_error(y_test, y_pred)\n",
    "\n",
    "# Printing the metrics\n",
    "print('R2 square:',metrics.r2_score(y_test, y_pred))\n",
    "print('MAE: ', mae)\n",
    "print('MSE: ', mse)\n",
    "print('')\n",
    "\n",
    "print('explained_variance:',metrics.explained_variance_score(y_test, y_pred))\n",
    "print('')\n",
    "\n",
    "print('')\n",
    "model=sm.OLS(y,X).fit() \n",
    "\n",
    "model.summary()"
   ]
  },
  {
   "cell_type": "code",
   "execution_count": null,
   "id": "3b16f796",
   "metadata": {},
   "outputs": [],
   "source": [
    "print(X.columns)\n",
    "print(\"\")\n",
    "print('w = ' + str(lin_reg.coef_) + ', b = ' + str(lin_reg.intercept_))"
   ]
  },
  {
   "cell_type": "markdown",
   "id": "e57b77e6",
   "metadata": {},
   "source": [
    "\\begin{align}\n",
    "\\dot{activations PACs} = \\ activationsWtopups(0.49195756) + 1624.23223709\\\\\n",
    "\\end{align}"
   ]
  },
  {
   "cell_type": "code",
   "execution_count": null,
   "id": "013b345d",
   "metadata": {},
   "outputs": [],
   "source": []
  },
  {
   "cell_type": "code",
   "execution_count": null,
   "id": "d24a7c41",
   "metadata": {},
   "outputs": [],
   "source": []
  }
 ],
 "metadata": {
  "kernelspec": {
   "display_name": "Python 3 (ipykernel)",
   "language": "python",
   "name": "python3"
  },
  "language_info": {
   "codemirror_mode": {
    "name": "ipython",
    "version": 3
   },
   "file_extension": ".py",
   "mimetype": "text/x-python",
   "name": "python",
   "nbconvert_exporter": "python",
   "pygments_lexer": "ipython3",
   "version": "3.9.7"
  }
 },
 "nbformat": 4,
 "nbformat_minor": 5
}
