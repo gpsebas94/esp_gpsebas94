{
 "cells": [
  {
   "cell_type": "markdown",
   "id": "987505f1",
   "metadata": {},
   "source": [
    "### Librerías"
   ]
  },
  {
   "cell_type": "code",
   "execution_count": 1,
   "id": "cb6082c7",
   "metadata": {},
   "outputs": [],
   "source": [
    "# Tratamiento de datos\n",
    "# ==============================================================================\n",
    "import pandas as pd\n",
    "import numpy as np\n",
    "\n",
    "# Gráficos\n",
    "# ==============================================================================\n",
    "import matplotlib.pyplot as plt\n",
    "from matplotlib import style\n",
    "import seaborn as sns\n",
    "\n",
    "# Preprocesado y modelado\n",
    "# ==============================================================================\n",
    "from scipy.stats import pearsonr\n",
    "from sklearn.model_selection import train_test_split\n",
    "from sklearn.metrics import mean_squared_error, mean_absolute_error, r2_score, explained_variance_score\n",
    "import statsmodels.api as sm\n",
    "import statsmodels.formula.api as smf\n",
    "from statsmodels.stats.anova import anova_lm\n",
    "from scipy import stats\n",
    "\n",
    "# Configuración matplotlib\n",
    "# ==============================================================================\n",
    "plt.rcParams['image.cmap'] = \"bwr\"\n",
    "#plt.rcParams['figure.dpi'] = \"100\"\n",
    "plt.rcParams['savefig.bbox'] = \"tight\"\n",
    "style.use('ggplot') or plt.style.use('ggplot')\n",
    "\n",
    "# Configuración warnings\n",
    "# ==============================================================================\n",
    "import warnings\n",
    "warnings.filterwarnings('ignore')\n",
    "\n",
    "# Conexión SQL\n",
    "# ==============================================================================\n",
    "import psycopg2 as ps\n",
    "\n",
    "import seaborn as sns\n",
    "\n",
    "#Biblioteca para estimar modelos estadísticos y realizar pruebas estadísticas.\n",
    "# ==============================================================================\n",
    "import statsmodels.formula.api as sfm \n",
    "\n",
    "from sklearn.preprocessing import PolynomialFeatures \n",
    "\n",
    "from sklearn.tree import DecisionTreeRegressor\n",
    "from sklearn.linear_model import LinearRegression \n",
    "from sklearn import metrics\n",
    "from sklearn.ensemble import RandomForestRegressor\n",
    "from sklearn.svm import SVR\n",
    "from sklearn.preprocessing import StandardScaler\n",
    "\n",
    "from sklearn.decomposition import PCA\n",
    "from sklearn.pipeline import make_pipeline\n",
    "\n",
    "from sklearn import linear_model"
   ]
  },
  {
   "cell_type": "markdown",
   "id": "bdfc26c7",
   "metadata": {},
   "source": [
    "### Conexión SQL"
   ]
  },
  {
   "cell_type": "code",
   "execution_count": 2,
   "id": "7872a130",
   "metadata": {},
   "outputs": [],
   "source": [
    "conexion = ps.connect(host=\"codbview.c21jlbp5d5qr.us-east-1.rds.amazonaws.com\", database=\"codb\", user=\"sgonzalez\", password=\"AdarlaToda100%\",port=\"5432\")"
   ]
  },
  {
   "cell_type": "code",
   "execution_count": 3,
   "id": "24ceee52",
   "metadata": {},
   "outputs": [],
   "source": [
    "# Creamos el cursor con el objeto conexion\n",
    "cur = conexion.cursor()\n",
    "\n",
    "# Ejecutamos una consulta\n",
    "sql = \"\"\"\n",
    "select ipc, activations, radio, tv, ooh, pop, digital_performance, eventos_alto_bitacora, eventos_bajo_bitacora, \n",
    "eventos_medio_bitacora \n",
    "from sal_indicators_in sa \n",
    "where sales_channel = 'Punto Partner'\n",
    "\"\"\"\n",
    "\n",
    "consulta = cur.execute(sql)\n",
    "\n",
    "data = cur.fetchall()"
   ]
  },
  {
   "cell_type": "code",
   "execution_count": 4,
   "id": "a63d7c59",
   "metadata": {},
   "outputs": [
    {
     "data": {
      "text/html": [
       "<div>\n",
       "<style scoped>\n",
       "    .dataframe tbody tr th:only-of-type {\n",
       "        vertical-align: middle;\n",
       "    }\n",
       "\n",
       "    .dataframe tbody tr th {\n",
       "        vertical-align: top;\n",
       "    }\n",
       "\n",
       "    .dataframe thead th {\n",
       "        text-align: right;\n",
       "    }\n",
       "</style>\n",
       "<table border=\"1\" class=\"dataframe\">\n",
       "  <thead>\n",
       "    <tr style=\"text-align: right;\">\n",
       "      <th></th>\n",
       "      <th>ipc</th>\n",
       "      <th>activations</th>\n",
       "      <th>radio</th>\n",
       "      <th>tv</th>\n",
       "      <th>ooh</th>\n",
       "      <th>pop</th>\n",
       "      <th>digital_performance</th>\n",
       "      <th>eventos_alto_bitacora</th>\n",
       "      <th>eventos_bajo_bitacora</th>\n",
       "      <th>eventos_medio_bitacora</th>\n",
       "    </tr>\n",
       "  </thead>\n",
       "  <tbody>\n",
       "    <tr>\n",
       "      <th>0</th>\n",
       "      <td>1.60</td>\n",
       "      <td>30</td>\n",
       "      <td>41687525</td>\n",
       "      <td>771166</td>\n",
       "      <td>0</td>\n",
       "      <td>2884220.0</td>\n",
       "      <td>365633245</td>\n",
       "      <td>0.00</td>\n",
       "      <td>0.0</td>\n",
       "      <td>1.00</td>\n",
       "    </tr>\n",
       "    <tr>\n",
       "      <th>1</th>\n",
       "      <td>1.56</td>\n",
       "      <td>19</td>\n",
       "      <td>57231920</td>\n",
       "      <td>95440163</td>\n",
       "      <td>79373000</td>\n",
       "      <td>8170000.0</td>\n",
       "      <td>422084086</td>\n",
       "      <td>0.75</td>\n",
       "      <td>0.0</td>\n",
       "      <td>0.25</td>\n",
       "    </tr>\n",
       "    <tr>\n",
       "      <th>2</th>\n",
       "      <td>1.51</td>\n",
       "      <td>23</td>\n",
       "      <td>116243171</td>\n",
       "      <td>194643334</td>\n",
       "      <td>0</td>\n",
       "      <td>0.0</td>\n",
       "      <td>429255030</td>\n",
       "      <td>1.00</td>\n",
       "      <td>0.0</td>\n",
       "      <td>0.00</td>\n",
       "    </tr>\n",
       "    <tr>\n",
       "      <th>3</th>\n",
       "      <td>1.95</td>\n",
       "      <td>13</td>\n",
       "      <td>117469351</td>\n",
       "      <td>366792554</td>\n",
       "      <td>0</td>\n",
       "      <td>34349575.0</td>\n",
       "      <td>426026002</td>\n",
       "      <td>0.30</td>\n",
       "      <td>0.1</td>\n",
       "      <td>0.60</td>\n",
       "    </tr>\n",
       "    <tr>\n",
       "      <th>4</th>\n",
       "      <td>3.30</td>\n",
       "      <td>7</td>\n",
       "      <td>131734088</td>\n",
       "      <td>320208915</td>\n",
       "      <td>0</td>\n",
       "      <td>34349575.0</td>\n",
       "      <td>372675824</td>\n",
       "      <td>1.00</td>\n",
       "      <td>0.0</td>\n",
       "      <td>0.00</td>\n",
       "    </tr>\n",
       "  </tbody>\n",
       "</table>\n",
       "</div>"
      ],
      "text/plain": [
       "    ipc  activations      radio         tv       ooh         pop  \\\n",
       "0  1.60           30   41687525     771166         0   2884220.0   \n",
       "1  1.56           19   57231920   95440163  79373000   8170000.0   \n",
       "2  1.51           23  116243171  194643334         0         0.0   \n",
       "3  1.95           13  117469351  366792554         0  34349575.0   \n",
       "4  3.30            7  131734088  320208915         0  34349575.0   \n",
       "\n",
       "   digital_performance  eventos_alto_bitacora  eventos_bajo_bitacora  \\\n",
       "0            365633245                   0.00                    0.0   \n",
       "1            422084086                   0.75                    0.0   \n",
       "2            429255030                   1.00                    0.0   \n",
       "3            426026002                   0.30                    0.1   \n",
       "4            372675824                   1.00                    0.0   \n",
       "\n",
       "   eventos_medio_bitacora  \n",
       "0                    1.00  \n",
       "1                    0.25  \n",
       "2                    0.00  \n",
       "3                    0.60  \n",
       "4                    0.00  "
      ]
     },
     "execution_count": 4,
     "metadata": {},
     "output_type": "execute_result"
    }
   ],
   "source": [
    "df = pd.DataFrame(data,columns=['ipc','activations','radio','tv','ooh','pop','digital_performance','eventos_alto_bitacora','eventos_bajo_bitacora','eventos_medio_bitacora'])\n",
    "\n",
    "df['ipc']=df['ipc'].astype('float')\n",
    "df['eventos_alto_bitacora']=df['eventos_alto_bitacora'].astype('float')\n",
    "df['eventos_bajo_bitacora']=df['eventos_bajo_bitacora'].astype('float')\n",
    "df['eventos_medio_bitacora']=df['eventos_medio_bitacora'].astype('float')\n",
    "\n",
    "\n",
    "df = df.fillna(0)\n",
    "#df = df.dropna()\n",
    "\n",
    "df.head()"
   ]
  },
  {
   "cell_type": "markdown",
   "id": "f6be66e7",
   "metadata": {},
   "source": [
    "### Distribución de los Datos"
   ]
  },
  {
   "cell_type": "code",
   "execution_count": 5,
   "id": "662566b7",
   "metadata": {},
   "outputs": [
    {
     "data": {
      "text/plain": [
       "<Figure size 2160x1440 with 0 Axes>"
      ]
     },
     "metadata": {},
     "output_type": "display_data"
    },
    {
     "data": {
      "image/png": "[encoded data removed]",
      "text/plain": [
       "<Figure size 1620x180 with 9 Axes>"
      ]
     },
     "metadata": {},
     "output_type": "display_data"
    }
   ],
   "source": [
    "plt.figure(figsize=(30,20)) \n",
    "sns.set_theme(style=\"ticks\")\n",
    "\n",
    "sns.pairplot(df, x_vars=['ipc','radio','tv','ooh','pop','digital_performance','eventos_alto_bitacora','eventos_bajo_bitacora','eventos_medio_bitacora'], y_vars=['activations']) \n",
    "\n",
    "plt.show()"
   ]
  },
  {
   "cell_type": "markdown",
   "id": "e5a7a269",
   "metadata": {},
   "source": [
    "### Correlaciones"
   ]
  },
  {
   "cell_type": "code",
   "execution_count": 6,
   "id": "60c8769a",
   "metadata": {},
   "outputs": [
    {
     "data": {
      "image/png": "[encoded data removed]",
      "text/plain": [
       "<Figure size 432x288 with 2 Axes>"
      ]
     },
     "metadata": {},
     "output_type": "display_data"
    }
   ],
   "source": [
    "corrMatrix_1 = df.corr(method ='pearson')[['activations']]\n",
    "\n",
    "\n",
    "sns.heatmap(corrMatrix_1, annot=True,cmap=\"YlGnBu\")\n",
    "\n",
    "plt.show()"
   ]
  },
  {
   "cell_type": "markdown",
   "id": "1c258cbd",
   "metadata": {},
   "source": [
    "### Omitir Variables \n",
    "De acuerdo a su correlación"
   ]
  },
  {
   "cell_type": "code",
   "execution_count": 7,
   "id": "92663f74",
   "metadata": {},
   "outputs": [],
   "source": [
    "del df['eventos_medio_bitacora']\n",
    "#del df['radio']\n",
    "#del df['ipc']\n",
    "#del df['eventos_alto_bitacora']\n",
    "#del df['ooh']\n",
    "#del df['pop']\n",
    "del df['tv']\n",
    "#del df['rotacion']\n",
    "#del df['comisiones']\n",
    "del df['digital_performance']\n",
    "del df['eventos_bajo_bitacora']"
   ]
  },
  {
   "cell_type": "markdown",
   "id": "2a53ab5a",
   "metadata": {},
   "source": [
    "### Regresión Lineal"
   ]
  },
  {
   "cell_type": "code",
   "execution_count": 8,
   "id": "417d0a77",
   "metadata": {},
   "outputs": [
    {
     "name": "stdout",
     "output_type": "stream",
     "text": [
      "R2 square: 0.7957558080917873\n",
      "MAE:  103.16030315425648\n",
      "MSE:  18662.13647672724\n",
      "\n",
      "explained_variance: 0.7975002149443609\n",
      "\n",
      "\n"
     ]
    },
    {
     "data": {
      "text/html": [
       "<table class=\"simpletable\">\n",
       "<caption>OLS Regression Results</caption>\n",
       "<tr>\n",
       "  <th>Dep. Variable:</th>       <td>activations</td>   <th>  R-squared (uncentered):</th>      <td>   0.785</td>\n",
       "</tr>\n",
       "<tr>\n",
       "  <th>Model:</th>                   <td>OLS</td>       <th>  Adj. R-squared (uncentered):</th> <td>   0.695</td>\n",
       "</tr>\n",
       "<tr>\n",
       "  <th>Method:</th>             <td>Least Squares</td>  <th>  F-statistic:       </th>          <td>   8.757</td>\n",
       "</tr>\n",
       "<tr>\n",
       "  <th>Date:</th>             <td>Tue, 05 Jul 2022</td> <th>  Prob (F-statistic):</th>           <td>0.00107</td>\n",
       "</tr>\n",
       "<tr>\n",
       "  <th>Time:</th>                 <td>21:07:37</td>     <th>  Log-Likelihood:    </th>          <td> -114.14</td>\n",
       "</tr>\n",
       "<tr>\n",
       "  <th>No. Observations:</th>      <td>    17</td>      <th>  AIC:               </th>          <td>   238.3</td>\n",
       "</tr>\n",
       "<tr>\n",
       "  <th>Df Residuals:</th>          <td>    12</td>      <th>  BIC:               </th>          <td>   242.4</td>\n",
       "</tr>\n",
       "<tr>\n",
       "  <th>Df Model:</th>              <td>     5</td>      <th>                     </th>              <td> </td>   \n",
       "</tr>\n",
       "<tr>\n",
       "  <th>Covariance Type:</th>      <td>nonrobust</td>    <th>                     </th>              <td> </td>   \n",
       "</tr>\n",
       "</table>\n",
       "<table class=\"simpletable\">\n",
       "<tr>\n",
       "            <td></td>               <th>coef</th>     <th>std err</th>      <th>t</th>      <th>P>|t|</th>  <th>[0.025</th>    <th>0.975]</th>  \n",
       "</tr>\n",
       "<tr>\n",
       "  <th>ipc</th>                   <td>   57.9193</td> <td>   22.459</td> <td>    2.579</td> <td> 0.024</td> <td>    8.986</td> <td>  106.853</td>\n",
       "</tr>\n",
       "<tr>\n",
       "  <th>radio</th>                 <td>-2.365e-06</td> <td> 1.01e-06</td> <td>   -2.352</td> <td> 0.037</td> <td>-4.56e-06</td> <td>-1.74e-07</td>\n",
       "</tr>\n",
       "<tr>\n",
       "  <th>ooh</th>                   <td>  1.72e-06</td> <td> 8.19e-07</td> <td>    2.100</td> <td> 0.058</td> <td>-6.47e-08</td> <td> 3.51e-06</td>\n",
       "</tr>\n",
       "<tr>\n",
       "  <th>pop</th>                   <td>-4.594e-07</td> <td> 2.42e-06</td> <td>   -0.190</td> <td> 0.853</td> <td>-5.74e-06</td> <td> 4.82e-06</td>\n",
       "</tr>\n",
       "<tr>\n",
       "  <th>eventos_alto_bitacora</th> <td>  185.2622</td> <td>  162.057</td> <td>    1.143</td> <td> 0.275</td> <td> -167.830</td> <td>  538.355</td>\n",
       "</tr>\n",
       "</table>\n",
       "<table class=\"simpletable\">\n",
       "<tr>\n",
       "  <th>Omnibus:</th>       <td> 0.196</td> <th>  Durbin-Watson:     </th> <td>   1.556</td>\n",
       "</tr>\n",
       "<tr>\n",
       "  <th>Prob(Omnibus):</th> <td> 0.907</td> <th>  Jarque-Bera (JB):  </th> <td>   0.393</td>\n",
       "</tr>\n",
       "<tr>\n",
       "  <th>Skew:</th>          <td> 0.125</td> <th>  Prob(JB):          </th> <td>   0.822</td>\n",
       "</tr>\n",
       "<tr>\n",
       "  <th>Kurtosis:</th>      <td> 2.299</td> <th>  Cond. No.          </th> <td>3.24e+08</td>\n",
       "</tr>\n",
       "</table><br/><br/>Notes:<br/>[1] R² is computed without centering (uncentered) since the model does not contain a constant.<br/>[2] Standard Errors assume that the covariance matrix of the errors is correctly specified.<br/>[3] The condition number is large, 3.24e+08. This might indicate that there are<br/>strong multicollinearity or other numerical problems."
      ],
      "text/plain": [
       "<class 'statsmodels.iolib.summary.Summary'>\n",
       "\"\"\"\n",
       "                                 OLS Regression Results                                \n",
       "=======================================================================================\n",
       "Dep. Variable:            activations   R-squared (uncentered):                   0.785\n",
       "Model:                            OLS   Adj. R-squared (uncentered):              0.695\n",
       "Method:                 Least Squares   F-statistic:                              8.757\n",
       "Date:                Tue, 05 Jul 2022   Prob (F-statistic):                     0.00107\n",
       "Time:                        21:07:37   Log-Likelihood:                         -114.14\n",
       "No. Observations:                  17   AIC:                                      238.3\n",
       "Df Residuals:                      12   BIC:                                      242.4\n",
       "Df Model:                           5                                                  \n",
       "Covariance Type:            nonrobust                                                  \n",
       "=========================================================================================\n",
       "                            coef    std err          t      P>|t|      [0.025      0.975]\n",
       "-----------------------------------------------------------------------------------------\n",
       "ipc                      57.9193     22.459      2.579      0.024       8.986     106.853\n",
       "radio                 -2.365e-06   1.01e-06     -2.352      0.037   -4.56e-06   -1.74e-07\n",
       "ooh                     1.72e-06   8.19e-07      2.100      0.058   -6.47e-08    3.51e-06\n",
       "pop                   -4.594e-07   2.42e-06     -0.190      0.853   -5.74e-06    4.82e-06\n",
       "eventos_alto_bitacora   185.2622    162.057      1.143      0.275    -167.830     538.355\n",
       "==============================================================================\n",
       "Omnibus:                        0.196   Durbin-Watson:                   1.556\n",
       "Prob(Omnibus):                  0.907   Jarque-Bera (JB):                0.393\n",
       "Skew:                           0.125   Prob(JB):                        0.822\n",
       "Kurtosis:                       2.299   Cond. No.                     3.24e+08\n",
       "==============================================================================\n",
       "\n",
       "Notes:\n",
       "[1] R² is computed without centering (uncentered) since the model does not contain a constant.\n",
       "[2] Standard Errors assume that the covariance matrix of the errors is correctly specified.\n",
       "[3] The condition number is large, 3.24e+08. This might indicate that there are\n",
       "strong multicollinearity or other numerical problems.\n",
       "\"\"\""
      ]
     },
     "execution_count": 8,
     "metadata": {},
     "output_type": "execute_result"
    }
   ],
   "source": [
    "# División de los datos en train y test\n",
    "# ==============================================================================\n",
    "X = df.drop(columns='activations',axis=1)\n",
    "y = df['activations']\n",
    "\n",
    "X_train, X_test, y_train, y_test = train_test_split(\n",
    "                                        X,\n",
    "                                        y.values.reshape(-1,1),\n",
    "                                        train_size   = 0.8,\n",
    "                                        random_state = 1234,\n",
    "                                        shuffle      = True\n",
    "                                    )\n",
    "\n",
    "lin_reg = LinearRegression()\n",
    "lin_reg.fit(X_train,y_train)\n",
    "\n",
    "#Prediction using test set \n",
    "y_pred = lin_reg.predict(X_test)\n",
    "mae=metrics.mean_absolute_error(y_test, y_pred)\n",
    "mse=metrics.mean_squared_error(y_test, y_pred)\n",
    "\n",
    "# Printing the metrics\n",
    "print('R2 square:',metrics.r2_score(y_test, y_pred))\n",
    "print('MAE: ', mae)\n",
    "print('MSE: ', mse)\n",
    "print('')\n",
    "\n",
    "print('explained_variance:',metrics.explained_variance_score(y_test, y_pred))\n",
    "print('')\n",
    "\n",
    "print('')\n",
    "model=sm.OLS(y,X).fit() \n",
    "\n",
    "model.summary()"
   ]
  },
  {
   "cell_type": "code",
   "execution_count": 9,
   "id": "5cbfb2ad",
   "metadata": {},
   "outputs": [
    {
     "name": "stdout",
     "output_type": "stream",
     "text": [
      "Index(['ipc', 'radio', 'ooh', 'pop', 'eventos_alto_bitacora'], dtype='object')\n",
      "\n",
      "w = [[ 3.55519006e+01 -3.24852162e-06  1.59840292e-06 -1.68993522e-07\n",
      "   7.87370445e+01]], b = [248.34162483]\n"
     ]
    }
   ],
   "source": [
    "print(X.columns)\n",
    "print(\"\")\n",
    "print('w = ' + str(lin_reg.coef_) + ', b = ' + str(lin_reg.intercept_))"
   ]
  },
  {
   "cell_type": "code",
   "execution_count": 10,
   "id": "1af98224",
   "metadata": {
    "scrolled": true
   },
   "outputs": [
    {
     "data": {
      "text/plain": [
       "ipc                      5.791930e+01\n",
       "radio                   -2.365197e-06\n",
       "ooh                      1.720229e-06\n",
       "pop                     -4.594369e-07\n",
       "eventos_alto_bitacora    1.852622e+02\n",
       "dtype: float64"
      ]
     },
     "execution_count": 10,
     "metadata": {},
     "output_type": "execute_result"
    }
   ],
   "source": [
    "model.params"
   ]
  },
  {
   "cell_type": "markdown",
   "id": "c68a4402",
   "metadata": {},
   "source": [
    "\\begin{align}\n",
    "\\dot{activations} = \\ -ipc(3.55519006e+01) - radio(3.24852162e-06) + ooh(1.59840292e-06) + pop(3.53512939e-05) - eventos_alto_bitacora(2.78104862e+04) + 93431.01987797\\\\\n",
    "\\end{align}"
   ]
  },
  {
   "cell_type": "markdown",
   "id": "34a0a273",
   "metadata": {},
   "source": [
    "### Modelo Regresión Activaciones con Recarga y con PAC"
   ]
  },
  {
   "cell_type": "code",
   "execution_count": 11,
   "id": "0a812933",
   "metadata": {},
   "outputs": [],
   "source": [
    "# Creamos el cursor con el objeto conexion\n",
    "cur2 = conexion.cursor()\n",
    "\n",
    "# Ejecutamos una consulta\n",
    "sql2 = \"\"\"\n",
    "select activations, activations_w_topups, activations_pacs\n",
    "from sal_indicators_in sa \n",
    "where sales_channel = 'Punto Partner'\n",
    "\"\"\"\n",
    "\n",
    "consulta2 = cur2.execute(sql2)\n",
    "\n",
    "data2 = cur2.fetchall()"
   ]
  },
  {
   "cell_type": "code",
   "execution_count": 12,
   "id": "5e9e0701",
   "metadata": {},
   "outputs": [
    {
     "data": {
      "text/html": [
       "<div>\n",
       "<style scoped>\n",
       "    .dataframe tbody tr th:only-of-type {\n",
       "        vertical-align: middle;\n",
       "    }\n",
       "\n",
       "    .dataframe tbody tr th {\n",
       "        vertical-align: top;\n",
       "    }\n",
       "\n",
       "    .dataframe thead th {\n",
       "        text-align: right;\n",
       "    }\n",
       "</style>\n",
       "<table border=\"1\" class=\"dataframe\">\n",
       "  <thead>\n",
       "    <tr style=\"text-align: right;\">\n",
       "      <th></th>\n",
       "      <th>activations</th>\n",
       "      <th>activations_w_topups</th>\n",
       "      <th>activations_pacs</th>\n",
       "    </tr>\n",
       "  </thead>\n",
       "  <tbody>\n",
       "    <tr>\n",
       "      <th>0</th>\n",
       "      <td>30</td>\n",
       "      <td>15</td>\n",
       "      <td>21</td>\n",
       "    </tr>\n",
       "    <tr>\n",
       "      <th>1</th>\n",
       "      <td>19</td>\n",
       "      <td>14</td>\n",
       "      <td>20</td>\n",
       "    </tr>\n",
       "    <tr>\n",
       "      <th>2</th>\n",
       "      <td>23</td>\n",
       "      <td>15</td>\n",
       "      <td>17</td>\n",
       "    </tr>\n",
       "    <tr>\n",
       "      <th>3</th>\n",
       "      <td>13</td>\n",
       "      <td>15</td>\n",
       "      <td>20</td>\n",
       "    </tr>\n",
       "    <tr>\n",
       "      <th>4</th>\n",
       "      <td>7</td>\n",
       "      <td>5</td>\n",
       "      <td>11</td>\n",
       "    </tr>\n",
       "  </tbody>\n",
       "</table>\n",
       "</div>"
      ],
      "text/plain": [
       "   activations  activations_w_topups  activations_pacs\n",
       "0           30                    15                21\n",
       "1           19                    14                20\n",
       "2           23                    15                17\n",
       "3           13                    15                20\n",
       "4            7                     5                11"
      ]
     },
     "execution_count": 12,
     "metadata": {},
     "output_type": "execute_result"
    }
   ],
   "source": [
    "df2 = pd.DataFrame(data2,columns=['activations', 'activations_w_topups', 'activations_pacs'])\n",
    "\n",
    "\n",
    "\n",
    "df2 = df2.fillna(0)\n",
    "#df = df.dropna()\n",
    "\n",
    "df2.head()"
   ]
  },
  {
   "cell_type": "markdown",
   "id": "bf464e17",
   "metadata": {},
   "source": [
    "##### Recargas"
   ]
  },
  {
   "cell_type": "code",
   "execution_count": 13,
   "id": "39863848",
   "metadata": {},
   "outputs": [
    {
     "name": "stdout",
     "output_type": "stream",
     "text": [
      "R2 square: 0.7778725046121029\n",
      "MAE:  89.8214664917227\n",
      "MSE:  11162.184302611062\n",
      "\n",
      "explained_variance: 0.9090996410470686\n",
      "\n",
      "\n"
     ]
    },
    {
     "data": {
      "text/html": [
       "<table class=\"simpletable\">\n",
       "<caption>OLS Regression Results</caption>\n",
       "<tr>\n",
       "  <th>Dep. Variable:</th>    <td>activations_w_topups</td> <th>  R-squared (uncentered):</th>      <td>   0.959</td>\n",
       "</tr>\n",
       "<tr>\n",
       "  <th>Model:</th>                     <td>OLS</td>         <th>  Adj. R-squared (uncentered):</th> <td>   0.956</td>\n",
       "</tr>\n",
       "<tr>\n",
       "  <th>Method:</th>               <td>Least Squares</td>    <th>  F-statistic:       </th>          <td>   370.5</td>\n",
       "</tr>\n",
       "<tr>\n",
       "  <th>Date:</th>               <td>Tue, 05 Jul 2022</td>   <th>  Prob (F-statistic):</th>          <td>1.73e-12</td>\n",
       "</tr>\n",
       "<tr>\n",
       "  <th>Time:</th>                   <td>21:07:37</td>       <th>  Log-Likelihood:    </th>          <td> -92.600</td>\n",
       "</tr>\n",
       "<tr>\n",
       "  <th>No. Observations:</th>        <td>    17</td>        <th>  AIC:               </th>          <td>   187.2</td>\n",
       "</tr>\n",
       "<tr>\n",
       "  <th>Df Residuals:</th>            <td>    16</td>        <th>  BIC:               </th>          <td>   188.0</td>\n",
       "</tr>\n",
       "<tr>\n",
       "  <th>Df Model:</th>                <td>     1</td>        <th>                     </th>              <td> </td>   \n",
       "</tr>\n",
       "<tr>\n",
       "  <th>Covariance Type:</th>        <td>nonrobust</td>      <th>                     </th>              <td> </td>   \n",
       "</tr>\n",
       "</table>\n",
       "<table class=\"simpletable\">\n",
       "<tr>\n",
       "       <td></td>          <th>coef</th>     <th>std err</th>      <th>t</th>      <th>P>|t|</th>  <th>[0.025</th>    <th>0.975]</th>  \n",
       "</tr>\n",
       "<tr>\n",
       "  <th>activations</th> <td>    0.6288</td> <td>    0.033</td> <td>   19.248</td> <td> 0.000</td> <td>    0.560</td> <td>    0.698</td>\n",
       "</tr>\n",
       "</table>\n",
       "<table class=\"simpletable\">\n",
       "<tr>\n",
       "  <th>Omnibus:</th>       <td>14.930</td> <th>  Durbin-Watson:     </th> <td>   1.013</td>\n",
       "</tr>\n",
       "<tr>\n",
       "  <th>Prob(Omnibus):</th> <td> 0.001</td> <th>  Jarque-Bera (JB):  </th> <td>  13.603</td>\n",
       "</tr>\n",
       "<tr>\n",
       "  <th>Skew:</th>          <td>-1.501</td> <th>  Prob(JB):          </th> <td> 0.00111</td>\n",
       "</tr>\n",
       "<tr>\n",
       "  <th>Kurtosis:</th>      <td> 6.192</td> <th>  Cond. No.          </th> <td>    1.00</td>\n",
       "</tr>\n",
       "</table><br/><br/>Notes:<br/>[1] R² is computed without centering (uncentered) since the model does not contain a constant.<br/>[2] Standard Errors assume that the covariance matrix of the errors is correctly specified."
      ],
      "text/plain": [
       "<class 'statsmodels.iolib.summary.Summary'>\n",
       "\"\"\"\n",
       "                                  OLS Regression Results                                 \n",
       "=========================================================================================\n",
       "Dep. Variable:     activations_w_topups   R-squared (uncentered):                   0.959\n",
       "Model:                              OLS   Adj. R-squared (uncentered):              0.956\n",
       "Method:                   Least Squares   F-statistic:                              370.5\n",
       "Date:                  Tue, 05 Jul 2022   Prob (F-statistic):                    1.73e-12\n",
       "Time:                          21:07:37   Log-Likelihood:                         -92.600\n",
       "No. Observations:                    17   AIC:                                      187.2\n",
       "Df Residuals:                        16   BIC:                                      188.0\n",
       "Df Model:                             1                                                  \n",
       "Covariance Type:              nonrobust                                                  \n",
       "===============================================================================\n",
       "                  coef    std err          t      P>|t|      [0.025      0.975]\n",
       "-------------------------------------------------------------------------------\n",
       "activations     0.6288      0.033     19.248      0.000       0.560       0.698\n",
       "==============================================================================\n",
       "Omnibus:                       14.930   Durbin-Watson:                   1.013\n",
       "Prob(Omnibus):                  0.001   Jarque-Bera (JB):               13.603\n",
       "Skew:                          -1.501   Prob(JB):                      0.00111\n",
       "Kurtosis:                       6.192   Cond. No.                         1.00\n",
       "==============================================================================\n",
       "\n",
       "Notes:\n",
       "[1] R² is computed without centering (uncentered) since the model does not contain a constant.\n",
       "[2] Standard Errors assume that the covariance matrix of the errors is correctly specified.\n",
       "\"\"\""
      ]
     },
     "execution_count": 13,
     "metadata": {},
     "output_type": "execute_result"
    }
   ],
   "source": [
    "# División de los datos en train y test\n",
    "# ==============================================================================\n",
    "\n",
    "X = df2[['activations']]\n",
    "y = df2['activations_w_topups']\n",
    "\n",
    "\n",
    "X_train, X_test, y_train, y_test = train_test_split(\n",
    "                                        X.values.reshape(-1,1),\n",
    "                                        y.values.reshape(-1,1),\n",
    "                                        train_size   = 0.8,\n",
    "                                        random_state = 1234,\n",
    "                                        shuffle      = True\n",
    "                                    )\n",
    "\n",
    "lin_reg = LinearRegression()\n",
    "lin_reg.fit(X_train,y_train)\n",
    "\n",
    "#Prediction using test set \n",
    "y_pred = lin_reg.predict(X_test)\n",
    "mae=metrics.mean_absolute_error(y_test, y_pred)\n",
    "mse=metrics.mean_squared_error(y_test, y_pred)\n",
    "\n",
    "# Printing the metrics\n",
    "print('R2 square:',metrics.r2_score(y_test, y_pred))\n",
    "print('MAE: ', mae)\n",
    "print('MSE: ', mse)\n",
    "print('')\n",
    "\n",
    "print('explained_variance:',metrics.explained_variance_score(y_test, y_pred))\n",
    "print('')\n",
    "\n",
    "print('')\n",
    "model=sm.OLS(y,X).fit() \n",
    "\n",
    "model.summary()"
   ]
  },
  {
   "cell_type": "code",
   "execution_count": 14,
   "id": "e16c7777",
   "metadata": {},
   "outputs": [
    {
     "name": "stdout",
     "output_type": "stream",
     "text": [
      "Index(['activations'], dtype='object')\n",
      "\n",
      "w = [[0.52765675]], b = [16.40229942]\n"
     ]
    }
   ],
   "source": [
    "print(X.columns)\n",
    "print(\"\")\n",
    "print('w = ' + str(lin_reg.coef_) + ', b = ' + str(lin_reg.intercept_))"
   ]
  },
  {
   "cell_type": "markdown",
   "id": "8c2c588d",
   "metadata": {},
   "source": [
    "\\begin{align}\n",
    "\\dot{activations W topups} = \\ activations(0.52765675) + 16.40229942\\\\\n",
    "\\end{align}"
   ]
  },
  {
   "cell_type": "markdown",
   "id": "18da30c5",
   "metadata": {},
   "source": [
    "##### PACS"
   ]
  },
  {
   "cell_type": "code",
   "execution_count": 15,
   "id": "4886cb3e",
   "metadata": {},
   "outputs": [
    {
     "name": "stdout",
     "output_type": "stream",
     "text": [
      "R2 square: 0.9369978522075131\n",
      "MAE:  26.729467022212873\n",
      "MSE:  1944.069087335481\n",
      "\n",
      "explained_variance: 0.9462091316129052\n",
      "\n",
      "\n"
     ]
    },
    {
     "data": {
      "text/html": [
       "<table class=\"simpletable\">\n",
       "<caption>OLS Regression Results</caption>\n",
       "<tr>\n",
       "  <th>Dep. Variable:</th>    <td>activations_pacs</td> <th>  R-squared (uncentered):</th>      <td>   0.986</td>\n",
       "</tr>\n",
       "<tr>\n",
       "  <th>Model:</th>                   <td>OLS</td>       <th>  Adj. R-squared (uncentered):</th> <td>   0.985</td>\n",
       "</tr>\n",
       "<tr>\n",
       "  <th>Method:</th>             <td>Least Squares</td>  <th>  F-statistic:       </th>          <td>   1090.</td>\n",
       "</tr>\n",
       "<tr>\n",
       "  <th>Date:</th>             <td>Tue, 05 Jul 2022</td> <th>  Prob (F-statistic):</th>          <td>3.79e-16</td>\n",
       "</tr>\n",
       "<tr>\n",
       "  <th>Time:</th>                 <td>21:07:37</td>     <th>  Log-Likelihood:    </th>          <td> -80.143</td>\n",
       "</tr>\n",
       "<tr>\n",
       "  <th>No. Observations:</th>      <td>    17</td>      <th>  AIC:               </th>          <td>   162.3</td>\n",
       "</tr>\n",
       "<tr>\n",
       "  <th>Df Residuals:</th>          <td>    16</td>      <th>  BIC:               </th>          <td>   163.1</td>\n",
       "</tr>\n",
       "<tr>\n",
       "  <th>Df Model:</th>              <td>     1</td>      <th>                     </th>              <td> </td>   \n",
       "</tr>\n",
       "<tr>\n",
       "  <th>Covariance Type:</th>      <td>nonrobust</td>    <th>                     </th>              <td> </td>   \n",
       "</tr>\n",
       "</table>\n",
       "<table class=\"simpletable\">\n",
       "<tr>\n",
       "            <td></td>              <th>coef</th>     <th>std err</th>      <th>t</th>      <th>P>|t|</th>  <th>[0.025</th>    <th>0.975]</th>  \n",
       "</tr>\n",
       "<tr>\n",
       "  <th>activations_w_topups</th> <td>    0.8071</td> <td>    0.024</td> <td>   33.016</td> <td> 0.000</td> <td>    0.755</td> <td>    0.859</td>\n",
       "</tr>\n",
       "</table>\n",
       "<table class=\"simpletable\">\n",
       "<tr>\n",
       "  <th>Omnibus:</th>       <td> 7.037</td> <th>  Durbin-Watson:     </th> <td>   1.430</td>\n",
       "</tr>\n",
       "<tr>\n",
       "  <th>Prob(Omnibus):</th> <td> 0.030</td> <th>  Jarque-Bera (JB):  </th> <td>   4.074</td>\n",
       "</tr>\n",
       "<tr>\n",
       "  <th>Skew:</th>          <td> 0.918</td> <th>  Prob(JB):          </th> <td>   0.130</td>\n",
       "</tr>\n",
       "<tr>\n",
       "  <th>Kurtosis:</th>      <td> 4.544</td> <th>  Cond. No.          </th> <td>    1.00</td>\n",
       "</tr>\n",
       "</table><br/><br/>Notes:<br/>[1] R² is computed without centering (uncentered) since the model does not contain a constant.<br/>[2] Standard Errors assume that the covariance matrix of the errors is correctly specified."
      ],
      "text/plain": [
       "<class 'statsmodels.iolib.summary.Summary'>\n",
       "\"\"\"\n",
       "                                 OLS Regression Results                                \n",
       "=======================================================================================\n",
       "Dep. Variable:       activations_pacs   R-squared (uncentered):                   0.986\n",
       "Model:                            OLS   Adj. R-squared (uncentered):              0.985\n",
       "Method:                 Least Squares   F-statistic:                              1090.\n",
       "Date:                Tue, 05 Jul 2022   Prob (F-statistic):                    3.79e-16\n",
       "Time:                        21:07:37   Log-Likelihood:                         -80.143\n",
       "No. Observations:                  17   AIC:                                      162.3\n",
       "Df Residuals:                      16   BIC:                                      163.1\n",
       "Df Model:                           1                                                  \n",
       "Covariance Type:            nonrobust                                                  \n",
       "========================================================================================\n",
       "                           coef    std err          t      P>|t|      [0.025      0.975]\n",
       "----------------------------------------------------------------------------------------\n",
       "activations_w_topups     0.8071      0.024     33.016      0.000       0.755       0.859\n",
       "==============================================================================\n",
       "Omnibus:                        7.037   Durbin-Watson:                   1.430\n",
       "Prob(Omnibus):                  0.030   Jarque-Bera (JB):                4.074\n",
       "Skew:                           0.918   Prob(JB):                        0.130\n",
       "Kurtosis:                       4.544   Cond. No.                         1.00\n",
       "==============================================================================\n",
       "\n",
       "Notes:\n",
       "[1] R² is computed without centering (uncentered) since the model does not contain a constant.\n",
       "[2] Standard Errors assume that the covariance matrix of the errors is correctly specified.\n",
       "\"\"\""
      ]
     },
     "execution_count": 15,
     "metadata": {},
     "output_type": "execute_result"
    }
   ],
   "source": [
    "# División de los datos en train y test\n",
    "# ==============================================================================\n",
    "X = df2[['activations_w_topups']]\n",
    "y = df2['activations_pacs']\n",
    "\n",
    "X_train, X_test, y_train, y_test = train_test_split(\n",
    "                                        X.values.reshape(-1,1),\n",
    "                                        y.values.reshape(-1,1),\n",
    "                                        train_size   = 0.8,\n",
    "                                        random_state = 1234,\n",
    "                                        shuffle      = True\n",
    "                                    )\n",
    "\n",
    "lin_reg = LinearRegression()\n",
    "lin_reg.fit(X_train,y_train)\n",
    "\n",
    "#Prediction using test set \n",
    "y_pred = lin_reg.predict(X_test)\n",
    "mae=metrics.mean_absolute_error(y_test, y_pred)\n",
    "mse=metrics.mean_squared_error(y_test, y_pred)\n",
    "\n",
    "# Printing the metrics\n",
    "print('R2 square:',metrics.r2_score(y_test, y_pred))\n",
    "print('MAE: ', mae)\n",
    "print('MSE: ', mse)\n",
    "print('')\n",
    "\n",
    "print('explained_variance:',metrics.explained_variance_score(y_test, y_pred))\n",
    "print('')\n",
    "\n",
    "print('')\n",
    "model=sm.OLS(y,X).fit() \n",
    "\n",
    "model.summary()"
   ]
  },
  {
   "cell_type": "code",
   "execution_count": 16,
   "id": "f3c14b78",
   "metadata": {},
   "outputs": [
    {
     "name": "stdout",
     "output_type": "stream",
     "text": [
      "Index(['activations_w_topups'], dtype='object')\n",
      "\n",
      "w = [[0.75739325]], b = [12.13745294]\n"
     ]
    }
   ],
   "source": [
    "print(X.columns)\n",
    "print(\"\")\n",
    "print('w = ' + str(lin_reg.coef_) + ', b = ' + str(lin_reg.intercept_))"
   ]
  },
  {
   "cell_type": "markdown",
   "id": "4df59e2b",
   "metadata": {},
   "source": [
    "\\begin{align}\n",
    "\\dot{activations PACs} = \\ activationsWtopups(0.75739325) + 12.13745294\\\\\n",
    "\\end{align}"
   ]
  },
  {
   "cell_type": "code",
   "execution_count": null,
   "id": "b410fd81",
   "metadata": {},
   "outputs": [],
   "source": []
  },
  {
   "cell_type": "code",
   "execution_count": null,
   "id": "5e4d846c",
   "metadata": {},
   "outputs": [],
   "source": []
  }
 ],
 "metadata": {
  "kernelspec": {
   "display_name": "Python 3 (ipykernel)",
   "language": "python",
   "name": "python3"
  },
  "language_info": {
   "codemirror_mode": {
    "name": "ipython",
    "version": 3
   },
   "file_extension": ".py",
   "mimetype": "text/x-python",
   "name": "python",
   "nbconvert_exporter": "python",
   "pygments_lexer": "ipython3",
   "version": "3.9.7"
  }
 },
 "nbformat": 4,
 "nbformat_minor": 5
}
